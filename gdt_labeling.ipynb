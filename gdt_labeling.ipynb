{
 "cells": [
  {
   "cell_type": "code",
   "execution_count": 9,
   "metadata": {},
   "outputs": [
    {
     "name": "stdout",
     "output_type": "stream",
     "text": [
      "{{product_name:浙江在线杭州}}{{time:4月25日}}讯（记者{{person_name:施宇翔}}通讯员{{person_name:方英}}）毒贩很“时髦”，用{{product_name:微信}}交易毒品。没料想警方也很“潮”，将计就计，一举将其擒获。记者从{{org_name:杭州江干区公安分局}}了解到，经过一个多月的侦查工作，{{org_name:江干区禁毒专案组}}抓获吸贩毒人员5名，缴获“冰毒”400余克，毒资30000余元，扣押汽车一辆。{{location:黑龙江}}籍男子{{person_name:钱某}}长期落脚于宾馆、单身公寓，经常变换住址。他有一辆车，经常半夜驾车来往于{{location:杭州主城区}}的各大宾馆和单身公寓，并且常要活动到{{time:凌晨6、7点钟}}，{{time:白天}}则在家里呼呼大睡。{{person_name:钱某}}不寻常的特征，引起了警方注意。禁毒大队通过侦查，发现{{person_name:钱某}}实际上是在向落脚于宾馆和单身公寓的吸毒人员贩送“冰毒”。\n"
     ]
    }
   ],
   "source": [
    "groundtruth = open('/Users/runchenmac/Downloads/BosonNLP_NER_6C.txt', mode='r')\n",
    "\n",
    "lines = groundtruth.readlines()\n",
    "line = lines[0]\n",
    "line = line.replace(' ', '')\n",
    "line = line.replace('\\n', '')\n",
    "print(line)\n",
    "\n",
    "groundtruth.close()"
   ]
  },
  {
   "cell_type": "code",
   "execution_count": 20,
   "metadata": {
    "collapsed": true
   },
   "outputs": [],
   "source": [
    "import re\n",
    "import jieba"
   ]
  },
  {
   "cell_type": "code",
   "execution_count": 15,
   "metadata": {
    "collapsed": true
   },
   "outputs": [],
   "source": [
    "left_template_dict = {'/DATETIME': '{{time:', '/PRODUCT': '{{product_name:', '/PER': '{{person_name:', \n",
    "                      '/ORG': '{{org_name:', '/LOC': '{{location:', '/COM': '{{company_name:'}"
   ]
  },
  {
   "cell_type": "code",
   "execution_count": 16,
   "metadata": {},
   "outputs": [
    {
     "name": "stdout",
     "output_type": "stream",
     "text": [
      "{{product_name:浙江在线杭州}}{{time:4月25日}}讯（记者{{person_name:施宇翔}}通讯员{{person_name:方英}}）毒贩很“时髦”，用{{product_name:微信}}交易毒品。没料想警方也很“潮”，将计就计，一举将其擒获。记者从{{org_name:杭州江干区公安分局}}了解到，经过一个多月的侦查工作，{{org_name:江干区禁毒专案组}}抓获吸贩毒人员5名，缴获“冰毒”400余克，毒资30000余元，扣押汽车一辆。{{location:黑龙江}}籍男子{{person_name:钱某}}长期落脚于宾馆、单身公寓，经常变换住址。他有一辆车，经常半夜驾车来往于{{location:杭州主城区}}的各大宾馆和单身公寓，并且常要活动到{{time:凌晨6、7点钟}}，{{time:白天}}则在家里呼呼大睡。{{person_name:钱某}}不寻常的特征，引起了警方注意。禁毒大队通过侦查，发现{{person_name:钱某}}实际上是在向落脚于宾馆和单身公寓的吸毒人员贩送“冰毒”。\n",
      "keywords: {'凌晨6、7点钟', '4月25日', '白天'}\n",
      "tag: /DATETIME\n",
      "{{product_name:浙江在线杭州}}{{4月25日}}讯（记者{{person_name:施宇翔}}通讯员{{person_name:方英}}）毒贩很“时髦”，用{{product_name:微信}}交易毒品。没料想警方也很“潮”，将计就计，一举将其擒获。记者从{{org_name:杭州江干区公安分局}}了解到，经过一个多月的侦查工作，{{org_name:江干区禁毒专案组}}抓获吸贩毒人员5名，缴获“冰毒”400余克，毒资30000余元，扣押汽车一辆。{{location:黑龙江}}籍男子{{person_name:钱某}}长期落脚于宾馆、单身公寓，经常变换住址。他有一辆车，经常半夜驾车来往于{{location:杭州主城区}}的各大宾馆和单身公寓，并且常要活动到{{凌晨6、7点钟}}，{{白天}}则在家里呼呼大睡。{{person_name:钱某}}不寻常的特征，引起了警方注意。禁毒大队通过侦查，发现{{person_name:钱某}}实际上是在向落脚于宾馆和单身公寓的吸毒人员贩送“冰毒”。\n",
      "\n",
      "\n",
      "\n",
      "keywords: {'微信', '浙江在线杭州'}\n",
      "tag: /PRODUCT\n",
      "{{浙江在线杭州}}{{4月25日}}讯（记者{{person_name:施宇翔}}通讯员{{person_name:方英}}）毒贩很“时髦”，用{{微信}}交易毒品。没料想警方也很“潮”，将计就计，一举将其擒获。记者从{{org_name:杭州江干区公安分局}}了解到，经过一个多月的侦查工作，{{org_name:江干区禁毒专案组}}抓获吸贩毒人员5名，缴获“冰毒”400余克，毒资30000余元，扣押汽车一辆。{{location:黑龙江}}籍男子{{person_name:钱某}}长期落脚于宾馆、单身公寓，经常变换住址。他有一辆车，经常半夜驾车来往于{{location:杭州主城区}}的各大宾馆和单身公寓，并且常要活动到{{凌晨6、7点钟}}，{{白天}}则在家里呼呼大睡。{{person_name:钱某}}不寻常的特征，引起了警方注意。禁毒大队通过侦查，发现{{person_name:钱某}}实际上是在向落脚于宾馆和单身公寓的吸毒人员贩送“冰毒”。\n",
      "\n",
      "\n",
      "\n",
      "keywords: {'施宇翔', '钱某', '方英'}\n",
      "tag: /PER\n",
      "{{浙江在线杭州}}{{4月25日}}讯（记者{{施宇翔}}通讯员{{方英}}）毒贩很“时髦”，用{{微信}}交易毒品。没料想警方也很“潮”，将计就计，一举将其擒获。记者从{{org_name:杭州江干区公安分局}}了解到，经过一个多月的侦查工作，{{org_name:江干区禁毒专案组}}抓获吸贩毒人员5名，缴获“冰毒”400余克，毒资30000余元，扣押汽车一辆。{{location:黑龙江}}籍男子{{钱某}}长期落脚于宾馆、单身公寓，经常变换住址。他有一辆车，经常半夜驾车来往于{{location:杭州主城区}}的各大宾馆和单身公寓，并且常要活动到{{凌晨6、7点钟}}，{{白天}}则在家里呼呼大睡。{{钱某}}不寻常的特征，引起了警方注意。禁毒大队通过侦查，发现{{钱某}}实际上是在向落脚于宾馆和单身公寓的吸毒人员贩送“冰毒”。\n",
      "\n",
      "\n",
      "\n",
      "keywords: {'江干区禁毒专案组', '杭州江干区公安分局'}\n",
      "tag: /ORG\n",
      "{{浙江在线杭州}}{{4月25日}}讯（记者{{施宇翔}}通讯员{{方英}}）毒贩很“时髦”，用{{微信}}交易毒品。没料想警方也很“潮”，将计就计，一举将其擒获。记者从{{杭州江干区公安分局}}了解到，经过一个多月的侦查工作，{{江干区禁毒专案组}}抓获吸贩毒人员5名，缴获“冰毒”400余克，毒资30000余元，扣押汽车一辆。{{location:黑龙江}}籍男子{{钱某}}长期落脚于宾馆、单身公寓，经常变换住址。他有一辆车，经常半夜驾车来往于{{location:杭州主城区}}的各大宾馆和单身公寓，并且常要活动到{{凌晨6、7点钟}}，{{白天}}则在家里呼呼大睡。{{钱某}}不寻常的特征，引起了警方注意。禁毒大队通过侦查，发现{{钱某}}实际上是在向落脚于宾馆和单身公寓的吸毒人员贩送“冰毒”。\n",
      "\n",
      "\n",
      "\n",
      "keywords: {'杭州主城区', '黑龙江'}\n",
      "tag: /LOC\n",
      "{{浙江在线杭州}}{{4月25日}}讯（记者{{施宇翔}}通讯员{{方英}}）毒贩很“时髦”，用{{微信}}交易毒品。没料想警方也很“潮”，将计就计，一举将其擒获。记者从{{杭州江干区公安分局}}了解到，经过一个多月的侦查工作，{{江干区禁毒专案组}}抓获吸贩毒人员5名，缴获“冰毒”400余克，毒资30000余元，扣押汽车一辆。{{黑龙江}}籍男子{{钱某}}长期落脚于宾馆、单身公寓，经常变换住址。他有一辆车，经常半夜驾车来往于{{杭州主城区}}的各大宾馆和单身公寓，并且常要活动到{{凌晨6、7点钟}}，{{白天}}则在家里呼呼大睡。{{钱某}}不寻常的特征，引起了警方注意。禁毒大队通过侦查，发现{{钱某}}实际上是在向落脚于宾馆和单身公寓的吸毒人员贩送“冰毒”。\n",
      "\n",
      "\n",
      "\n",
      "keywords: set()\n",
      "tag: /COM\n",
      "{{浙江在线杭州}}{{4月25日}}讯（记者{{施宇翔}}通讯员{{方英}}）毒贩很“时髦”，用{{微信}}交易毒品。没料想警方也很“潮”，将计就计，一举将其擒获。记者从{{杭州江干区公安分局}}了解到，经过一个多月的侦查工作，{{江干区禁毒专案组}}抓获吸贩毒人员5名，缴获“冰毒”400余克，毒资30000余元，扣押汽车一辆。{{黑龙江}}籍男子{{钱某}}长期落脚于宾馆、单身公寓，经常变换住址。他有一辆车，经常半夜驾车来往于{{杭州主城区}}的各大宾馆和单身公寓，并且常要活动到{{凌晨6、7点钟}}，{{白天}}则在家里呼呼大睡。{{钱某}}不寻常的特征，引起了警方注意。禁毒大队通过侦查，发现{{钱某}}实际上是在向落脚于宾馆和单身公寓的吸毒人员贩送“冰毒”。\n",
      "\n",
      "\n",
      "\n",
      "{{浙江在线杭州}}{{4月25日}}讯（记者{{施宇翔}}通讯员{{方英}}）毒贩很“时髦”，用{{微信}}交易毒品。没料想警方也很“潮”，将计就计，一举将其擒获。记者从{{杭州江干区公安分局}}了解到，经过一个多月的侦查工作，{{江干区禁毒专案组}}抓获吸贩毒人员5名，缴获“冰毒”400余克，毒资30000余元，扣押汽车一辆。{{黑龙江}}籍男子{{钱某}}长期落脚于宾馆、单身公寓，经常变换住址。他有一辆车，经常半夜驾车来往于{{杭州主城区}}的各大宾馆和单身公寓，并且常要活动到{{凌晨6、7点钟}}，{{白天}}则在家里呼呼大睡。{{钱某}}不寻常的特征，引起了警方注意。禁毒大队通过侦查，发现{{钱某}}实际上是在向落脚于宾馆和单身公寓的吸毒人员贩送“冰毒”。\n",
      "{'4月25日': '/DATETIME', '凌晨6、7点钟': '/DATETIME', '白天': '/DATETIME', '浙江在线杭州': '/PRODUCT', '微信': '/PRODUCT', '施宇翔': '/PER', '方英': '/PER', '钱某': '/PER', '杭州江干区公安分局': '/ORG', '江干区禁毒专案组': '/ORG', '黑龙江': '/LOC', '杭州主城区': '/LOC'}\n"
     ]
    }
   ],
   "source": [
    "line_reduce = ''\n",
    "line_tmp = line\n",
    "\n",
    "tag_dict = {}\n",
    "\n",
    "print(line)\n",
    "for tag, template in left_template_dict.items():   \n",
    "    \n",
    "    keywords = re.findall('\\\\' + template + '(.*?)\\}}', line_tmp)\n",
    "    print('keywords: ' + str(set(keywords)))\n",
    "    print('tag: ' + str(tag))\n",
    "    for keyword in keywords:\n",
    "        if tag not in tag_dict:\n",
    "            tag_dict[keyword] = tag\n",
    "    line_reduce = line_tmp.replace(template, '{{')\n",
    "    line_tmp = line_reduce\n",
    "    print(line_reduce)\n",
    "    print('\\n\\n')\n",
    "print(line_reduce)\n",
    "print(tag_dict)"
   ]
  },
  {
   "cell_type": "code",
   "execution_count": 26,
   "metadata": {
    "collapsed": true
   },
   "outputs": [],
   "source": [
    "line_reduce_clean = line_reduce.replace('{', '')\n",
    "line_reduce_clean = line_reduce_clean.replace('}', '')"
   ]
  },
  {
   "cell_type": "code",
   "execution_count": 27,
   "metadata": {},
   "outputs": [
    {
     "name": "stdout",
     "output_type": "stream",
     "text": [
      "['浙江在线杭州4月25日讯（记者施宇翔通讯员方英）毒贩很“时髦”，用微信交易毒品', '没料想警方也很“潮”，将计就计，一举将其擒获', '记者从杭州江干区公安分局了解到，经过一个多月的侦查工作，江干区禁毒专案组抓获吸贩毒人员5名，缴获“冰毒”400余克，毒资30000余元，扣押汽车一辆', '黑龙江籍男子钱某长期落脚于宾馆、单身公寓，经常变换住址', '他有一辆车，经常半夜驾车来往于杭州主城区的各大宾馆和单身公寓，并且常要活动到凌晨6、7点钟，白天则在家里呼呼大睡', '钱某不寻常的特征，引起了警方注意', '禁毒大队通过侦查，发现钱某实际上是在向落脚于宾馆和单身公寓的吸毒人员贩送“冰毒”', '']\n"
     ]
    }
   ],
   "source": [
    "line_split = line_reduce_clean.split('。')\n",
    "print(line_split)"
   ]
  },
  {
   "cell_type": "code",
   "execution_count": 28,
   "metadata": {},
   "outputs": [
    {
     "name": "stdout",
     "output_type": "stream",
     "text": [
      "{'微信', '钱某', '方英', '杭州江干区公安分局', '施宇翔', '杭州主城区', '白天', '江干区禁毒专案组', '凌晨6、7点钟', '黑龙江', '浙江在线杭州', '4月25日'}\n"
     ]
    }
   ],
   "source": [
    "sub_string = re.findall('\\{{(.*?)\\}}', line_reduce)\n",
    "set_key = set(sub_string)\n",
    "print(set_key)"
   ]
  },
  {
   "cell_type": "code",
   "execution_count": 29,
   "metadata": {},
   "outputs": [],
   "source": [
    "for word in set_key:\n",
    "    jieba.add_word(word)"
   ]
  },
  {
   "cell_type": "code",
   "execution_count": 30,
   "metadata": {},
   "outputs": [
    {
     "name": "stdout",
     "output_type": "stream",
     "text": [
      "浙江在线杭州/PRODUCT||4月25日/DATETIME||讯/0||（/0||记者/0||施宇翔/PER||通讯员/0||方英/PER||）/0||毒贩/0||很/0||“/0||时髦/0||”/0||，/0||用/0||微信/PRODUCT||交易/0||毒品/0\n",
      "\n",
      "\n",
      "没/0||料想/0||警方/0||也/0||很/0||“/0||潮/0||”/0||，/0||将计就计/0||，/0||一举/0||将/0||其/0||擒获/0\n",
      "\n",
      "\n",
      "记者/0||从/0||杭州江干区公安分局/ORG||了解/0||到/0||，/0||经过/0||一个多月/0||的/0||侦查/0||工作/0||，/0||江干区禁毒专案组/ORG||抓获/0||吸/0||贩毒/0||人员/0||5/0||名/0||，/0||缴获/0||“/0||冰毒/0||”/0||400/0||余克/0||，/0||毒资/0||30000/0||余元/0||，/0||扣押/0||汽车/0||一辆/0\n",
      "\n",
      "\n",
      "黑龙江/LOC||籍/0||男子/0||钱某/PER||长期/0||落脚/0||于/0||宾馆/0||、/0||单身公寓/0||，/0||经常/0||变换/0||住址/0\n",
      "\n",
      "\n",
      "他/0||有/0||一辆车/0||，/0||经常/0||半夜/0||驾车/0||来往/0||于/0||杭州主城区/LOC||的/0||各大/0||宾馆/0||和/0||单身公寓/0||，/0||并且/0||常要/0||活动/0||到/0||凌晨/0||6/0||、/0||7/0||点钟/0||，/0||白天/DATETIME||则/0||在/0||家里/0||呼呼大睡/0\n",
      "\n",
      "\n",
      "钱某/PER||不/0||寻常/0||的/0||特征/0||，/0||引起/0||了/0||警方/0||注意/0\n",
      "\n",
      "\n",
      "禁毒/0||大队/0||通过/0||侦查/0||，/0||发现/0||钱某/PER||实际上/0||是/0||在/0||向/0||落脚/0||于/0||宾馆/0||和/0||单身公寓/0||的/0||吸毒/0||人员/0||贩送/0||“/0||冰毒/0||”/0\n",
      "\n",
      "\n",
      "\n",
      "\n",
      "\n"
     ]
    }
   ],
   "source": [
    "for sentence in line_split:\n",
    "    sentence_split = jieba.lcut(sentence)\n",
    "    #print(len(sentence_split))\n",
    "    # for words in sentence_split: print(words)\n",
    "    for i in range(len(sentence_split)):\n",
    "        word = sentence_split[i]\n",
    "        if word in set_key: \n",
    "            #print(word, tag_dict[word])\n",
    "            sentence_split[i] = word + tag_dict[word]\n",
    "        else:\n",
    "            sentence_split[i] = word + '/0'\n",
    "    print('||'.join(sentence_split) + '\\n\\n')"
   ]
  },
  {
   "cell_type": "code",
   "execution_count": null,
   "metadata": {
    "collapsed": true
   },
   "outputs": [],
   "source": []
  }
 ],
 "metadata": {
  "kernelspec": {
   "display_name": "Python 3",
   "language": "python",
   "name": "python3"
  },
  "language_info": {
   "codemirror_mode": {
    "name": "ipython",
    "version": 3
   },
   "file_extension": ".py",
   "mimetype": "text/x-python",
   "name": "python",
   "nbconvert_exporter": "python",
   "pygments_lexer": "ipython3",
   "version": "3.6.2"
  }
 },
 "nbformat": 4,
 "nbformat_minor": 2
}
